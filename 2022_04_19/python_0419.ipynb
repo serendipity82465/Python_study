{
 "cells": [
  {
   "cell_type": "code",
   "execution_count": 3,
   "outputs": [
    {
     "name": "stdout",
     "output_type": "stream",
     "text": [
      "29999 원, 배달비 받음\n"
     ]
    }
   ],
   "source": [
    "price = int(input('상품의 가격을 입력해주세요.'))\n",
    "if price >= 30000 :\n",
    "    print(price,'원, 배달비 안받음')\n",
    "else :\n",
    "    print(price,'원, 배달비 받음')"
   ],
   "metadata": {
    "collapsed": false,
    "pycharm": {
     "name": "#%%\n"
    }
   }
  },
  {
   "cell_type": "code",
   "execution_count": 6,
   "outputs": [
    {
     "name": "stdout",
     "output_type": "stream",
     "text": [
      "큰수 = 20 작은수 = 10\n"
     ]
    }
   ],
   "source": [
    "x = int(input('첫번째 수를 입력하세요: '))\n",
    "y = int(input('두번째 수를 입력하세요: '))\n",
    "\n",
    "max_value = (x if x > y else y)\n",
    "min_value = (y if x > y else x)\n",
    "\n",
    "print('큰수 =',max_value,'작은수 =',min_value)"
   ],
   "metadata": {
    "collapsed": false,
    "pycharm": {
     "name": "#%%\n"
    }
   }
  },
  {
   "cell_type": "code",
   "execution_count": 15,
   "outputs": [
    {
     "name": "stdout",
     "output_type": "stream",
     "text": [
      "3 홀수입니다.\n"
     ]
    }
   ],
   "source": [
    "a = int(input('숫자를 입력하세요'))\n",
    "\n",
    "if a % 2 == 0 :\n",
    "    print(a,'짝수입니다.')\n",
    "\n",
    "else :\n",
    "    print(a,'홀수입니다.')"
   ],
   "metadata": {
    "collapsed": false,
    "pycharm": {
     "name": "#%%\n"
    }
   }
  },
  {
   "cell_type": "code",
   "execution_count": 40,
   "outputs": [
    {
     "name": "stdout",
     "output_type": "stream",
     "text": [
      "당신의 학점은 C입니다.\n"
     ]
    }
   ],
   "source": [
    "score = int(input('점수를 입력하세요 : '))\n",
    "\n",
    "if score >= 90 :\n",
    "    print('당신의 학점은 A입니다.')\n",
    "elif score >= 80 :\n",
    "    print('당신의 학점은 B입니다.')\n",
    "elif score >= 70 :\n",
    "    print('당신의 학점은 C입니다.')\n",
    "elif score >= 60 :\n",
    "    print('당신의 학점은 D입니다.')\n",
    "else :\n",
    "    print('당신의 학점은 F입니다.')"
   ],
   "metadata": {
    "collapsed": false,
    "pycharm": {
     "name": "#%%\n"
    }
   }
  },
  {
   "cell_type": "code",
   "execution_count": null,
   "outputs": [],
   "source": [],
   "metadata": {
    "collapsed": false,
    "pycharm": {
     "name": "#%%\n"
    }
   }
  }
 ],
 "metadata": {
  "kernelspec": {
   "display_name": "Python 3",
   "language": "python",
   "name": "python3"
  },
  "language_info": {
   "codemirror_mode": {
    "name": "ipython",
    "version": 2
   },
   "file_extension": ".py",
   "mimetype": "text/x-python",
   "name": "python",
   "nbconvert_exporter": "python",
   "pygments_lexer": "ipython2",
   "version": "2.7.6"
  }
 },
 "nbformat": 4,
 "nbformat_minor": 0
}