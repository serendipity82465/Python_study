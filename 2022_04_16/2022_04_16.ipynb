{
 "cells": [
  {
   "cell_type": "code",
   "execution_count": 3,
   "outputs": [
    {
     "name": "stdout",
     "output_type": "stream",
     "text": [
      "314.0\n"
     ]
    }
   ],
   "source": [
    "PI = 3.14\n",
    "radius = 10\n",
    "area = PI * radius * radius\n",
    "print(area)"
   ],
   "metadata": {
    "collapsed": false,
    "pycharm": {
     "name": "#%%\n"
    }
   }
  },
  {
   "cell_type": "code",
   "execution_count": 12,
   "outputs": [
    {
     "name": "stdout",
     "output_type": "stream",
     "text": [
      "0.042279722645019446\n"
     ]
    }
   ],
   "source": [
    "speed = 300000\n",
    "space = 400000000000\n",
    "sec = space / speed\n",
    "lightyear = sec / (60.0*60.0*24.0*365.0)\n",
    "print(lightyear)"
   ],
   "metadata": {
    "collapsed": false,
    "pycharm": {
     "name": "#%%\n"
    }
   }
  },
  {
   "cell_type": "code",
   "execution_count": 6,
   "outputs": [
    {
     "name": "stdout",
     "output_type": "stream",
     "text": [
      "두 수를 더한 값은 : 17\n",
      "두 수를 뺀 값은 : 7\n",
      "두 수를 곱한 값은 : 60\n",
      "두 수를 나눈 값은 : 2.4\n",
      "두 수를 나머지 값은 : 2\n"
     ]
    }
   ],
   "source": [
    "a = int(input('첫번째 숫자를 입력하세요 :'))\n",
    "b = int(input('두번째 숫자를 입력하세요 :'))\n",
    "\n",
    "print('두 수를 더한 값은 :',a + b)\n",
    "print('두 수를 뺀 값은 :',a - b)\n",
    "print('두 수를 곱한 값은 :',a * b)\n",
    "print('두 수를 나눈 값은 :',a / b)\n",
    "print('두 수를 나머지 값은 :',a % b)"
   ],
   "metadata": {
    "collapsed": false,
    "pycharm": {
     "name": "#%%\n"
    }
   }
  },
  {
   "cell_type": "code",
   "execution_count": 9,
   "outputs": [
    {
     "name": "stdout",
     "output_type": "stream",
     "text": [
      "===입력금액===\n",
      "===거스름돈 출력===\n",
      "500원= 0 100원= 1 10원= 0 1원= 1\n"
     ]
    }
   ],
   "source": [
    "money = int(input('물건 값을 입력하시오:'))\n",
    "\n",
    "print('===입력금액===')\n",
    "a = int(input('1000원 지폐개수: '))\n",
    "b = int(input('500원 동전개수: '))\n",
    "c = int(input('100원 동전개수: '))\n",
    "input_money = (1000 * a)+(500 * b)+(100 * c)\n",
    "change = money - input_money\n",
    "coin_500 = change // 500\n",
    "coin_100 = (change %500) // 100\n",
    "coin_10 = (change %100) // 10\n",
    "coin_1 = (change %10) // 1\n",
    "print('===거스름돈 출력===')\n",
    "print('500원=',coin_500,'100원=',coin_100,'10원=',coin_10,'1원=',coin_1)"
   ],
   "metadata": {
    "collapsed": false,
    "pycharm": {
     "name": "#%%\n"
    }
   }
  },
  {
   "cell_type": "code",
   "execution_count": 21,
   "outputs": [
    {
     "name": "stdout",
     "output_type": "stream",
     "text": [
      "===================================\n",
      "오늘 서울 에서 야구 경기가 열렸습니다.\n",
      "삼성 와 LG 은 치열한 공방전을 펼쳤습니다.\n",
      "홍길동 이 맹활약을 하였습니다.\n",
      "결국 삼성 가 LG 를 8:7 로 이겼습니다.\n",
      "===================================\n"
     ]
    }
   ],
   "source": [
    "a = input('경기장은 어디입니까?')\n",
    "b = input('이긴팀은 어디입니까?')\n",
    "c = input('진팀은 어디입니까?')\n",
    "d = input('우수선수는 누구입니까?')\n",
    "e = input('스코어는 몇대몇입니까?')\n",
    "\n",
    "print('='*35)\n",
    "print('오늘',a,'에서 야구 경기가 열렸습니다.')\n",
    "print(b,'와',c,'은 치열한 공방전을 펼쳤습니다.')\n",
    "print(d,'이 맹활약을 하였습니다.')\n",
    "print('결국',b,'가',c,'를',e,'로 이겼습니다.')\n",
    "print('='*35)"
   ],
   "metadata": {
    "collapsed": false,
    "pycharm": {
     "name": "#%%\n"
    }
   }
  }
 ],
 "metadata": {
  "kernelspec": {
   "display_name": "Python 3",
   "language": "python",
   "name": "python3"
  },
  "language_info": {
   "codemirror_mode": {
    "name": "ipython",
    "version": 2
   },
   "file_extension": ".py",
   "mimetype": "text/x-python",
   "name": "python",
   "nbconvert_exporter": "python",
   "pygments_lexer": "ipython2",
   "version": "2.7.6"
  }
 },
 "nbformat": 4,
 "nbformat_minor": 0
}